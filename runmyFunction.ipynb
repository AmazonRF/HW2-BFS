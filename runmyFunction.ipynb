{
 "cells": [
  {
   "cell_type": "code",
   "execution_count": 2,
   "metadata": {},
   "outputs": [],
   "source": [
    "# write tests for bfs\n",
    "import pytest\n",
    "import networkx as nx\n",
    "from search import graph\n",
    "\n",
    "def test_bfs_traversal():\n",
    "    \"\"\"\n",
    "    TODO: Write your unit test for a breadth-first\n",
    "    traversal here. Create an instance of your Graph class \n",
    "    using the 'tiny_network.adjlist' file and assert \n",
    "    that all nodes are being traversed (ie. returns \n",
    "    the right number of nodes, in the right order, etc..)\n",
    "    \"\"\"\n",
    "    tiny_graph_nx = nx.read_adjlist(\"/Users/yifeichen/Desktop/winter24/HW2-BFS/data/citation_network.adjlist\", create_using=nx.DiGraph, delimiter=\";\")\n",
    "    tiny_graph_my = graph.Graph(\"./data/tiny_network.adjlist\")\n",
    "    \n",
    "    start_node = list(tiny_graph_nx.nodes())[0]\n",
    "    \n",
    "    groundTruth = list(nx.bfs_edges(tiny_graph_nx, start_node))\n",
    "    groundTruth = [start_node] + [v for u, v in groundTruth]\n",
    "\n",
    "    my_bfs_path = tiny_graph_my.bfs(start_node)\n",
    "\n",
    "    # with pytest.raises(ValueError):pass\n",
    "    print(my_bfs_path)\n",
    "\n",
    "def test_bfs():\n",
    "    \"\"\"\n",
    "    TODO: Write your unit test for your breadth-first \n",
    "    search here. You should generate an instance of a Graph\n",
    "    class using the 'citation_network.adjlist' file \n",
    "    and assert that nodes that are connected return \n",
    "    a (shortest) path between them.\n",
    "    \n",
    "    Include an additional test for nodes that are not connected \n",
    "    which should return None. \n",
    "    \"\"\"\n",
    "\n",
    "    \n",
    "    pass\n"
   ]
  },
  {
   "cell_type": "code",
   "execution_count": 3,
   "metadata": {},
   "outputs": [
    {
     "name": "stdout",
     "output_type": "stream",
     "text": [
      "None\n"
     ]
    }
   ],
   "source": [
    "test_bfs_traversal()"
   ]
  },
  {
   "cell_type": "code",
   "execution_count": 32,
   "metadata": {},
   "outputs": [
    {
     "name": "stdout",
     "output_type": "stream",
     "text": [
      "['Hani Goodarzi', '33232663', 'Bruce Conklin', '30814728', 'Lani Wu']\n",
      "5\n"
     ]
    }
   ],
   "source": [
    "tiny_graph_nx = nx.read_adjlist(\"/Users/yifeichen/Desktop/winter24/HW2-BFS/data/citation_network.adjlist\", create_using=nx.DiGraph, delimiter=\";\")\n",
    "tiny_graph_my = graph.Graph(\"/Users/yifeichen/Desktop/winter24/HW2-BFS/data/citation_network.adjlist\")\n",
    "start_node =  'Hani Goodarzi'\n",
    "end_node  = 'Lani Wu'\n",
    "\n",
    "my_bfs_path = tiny_graph_my.bfs(start_node,end_node)\n",
    "\n",
    "are_connected = nx.has_path(G, start_node, end_node)\n",
    "\n",
    "nx_path = len(nx.shortest_path(tiny_graph_nx, source=start_node, target=end_node))\n",
    "print((my_bfs_path))\n",
    "print(nx_path)\n"
   ]
  },
  {
   "cell_type": "code",
   "execution_count": 22,
   "metadata": {},
   "outputs": [
    {
     "name": "stdout",
     "output_type": "stream",
     "text": [
      "None\n",
      "False\n"
     ]
    }
   ],
   "source": [
    "tiny_graph_nx = nx.read_adjlist(\"/Users/yifeichen/Desktop/winter24/HW2-BFS/data/citation_network.adjlist\", create_using=nx.DiGraph, delimiter=\";\")\n",
    "tiny_graph_my = graph.Graph(\"/Users/yifeichen/Desktop/winter24/HW2-BFS/data/citation_network.adjlist\")\n",
    "start_node = 'Yifei Chen 1'\n",
    "# end_node  = 'Yifei Chen 2'\n",
    "\n",
    "my_bfs_path = tiny_graph_my.bfs(start_node)\n",
    "\n",
    "# are_connected = nx.has_path(G, start_node)\n",
    "\n",
    "# nx_path = nx.shortest_path(tiny_graph_nx, source=start_node, target=end_node)\n",
    "print(my_bfs_path)\n",
    "print(are_connected)"
   ]
  },
  {
   "cell_type": "code",
   "execution_count": 24,
   "metadata": {},
   "outputs": [],
   "source": [
    "tiny_graph_my = graph.Graph(\"./data/emptyGraph.adjlist\")"
   ]
  },
  {
   "cell_type": "code",
   "execution_count": 26,
   "metadata": {},
   "outputs": [
    {
     "ename": "AttributeError",
     "evalue": "'Graph' object has no attribute 'node'",
     "output_type": "error",
     "traceback": [
      "\u001b[0;31m---------------------------------------------------------------------------\u001b[0m",
      "\u001b[0;31mAttributeError\u001b[0m                            Traceback (most recent call last)",
      "Cell \u001b[0;32mIn[26], line 1\u001b[0m\n\u001b[0;32m----> 1\u001b[0m tiny_graph_my\u001b[38;5;241m.\u001b[39mnode\n",
      "\u001b[0;31mAttributeError\u001b[0m: 'Graph' object has no attribute 'node'"
     ]
    }
   ],
   "source": [
    "tiny_graph_my.node"
   ]
  },
  {
   "cell_type": "code",
   "execution_count": null,
   "metadata": {},
   "outputs": [],
   "source": []
  }
 ],
 "metadata": {
  "kernelspec": {
   "display_name": "ucsfbp",
   "language": "python",
   "name": "python3"
  },
  "language_info": {
   "codemirror_mode": {
    "name": "ipython",
    "version": 3
   },
   "file_extension": ".py",
   "mimetype": "text/x-python",
   "name": "python",
   "nbconvert_exporter": "python",
   "pygments_lexer": "ipython3",
   "version": "3.11.4"
  }
 },
 "nbformat": 4,
 "nbformat_minor": 2
}
