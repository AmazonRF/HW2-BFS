{
 "cells": [
  {
   "cell_type": "code",
   "execution_count": 2,
   "metadata": {},
   "outputs": [],
   "source": [
    "# write tests for bfs\n",
    "import pytest\n",
    "import networkx as nx\n",
    "from search import graph\n",
    "\n",
    "def test_bfs_traversal():\n",
    "    \"\"\"\n",
    "    TODO: Write your unit test for a breadth-first\n",
    "    traversal here. Create an instance of your Graph class \n",
    "    using the 'tiny_network.adjlist' file and assert \n",
    "    that all nodes are being traversed (ie. returns \n",
    "    the right number of nodes, in the right order, etc..)\n",
    "    \"\"\"\n",
    "    tiny_graph_nx = nx.read_adjlist(\"/Users/yifeichen/Desktop/winter24/HW2-BFS/data/citation_network.adjlist\", create_using=nx.DiGraph, delimiter=\";\")\n",
    "    tiny_graph_my = graph.Graph(\"./data/tiny_network.adjlist\")\n",
    "    \n",
    "    start_node = list(tiny_graph_nx.nodes())[0]\n",
    "    \n",
    "    groundTruth = list(nx.bfs_edges(tiny_graph_nx, start_node))\n",
    "    groundTruth = [start_node] + [v for u, v in groundTruth]\n",
    "\n",
    "    my_bfs_path = tiny_graph_my.bfs(start_node)\n",
    "\n",
    "    # with pytest.raises(ValueError):pass\n",
    "    print(my_bfs_path)\n",
    "\n",
    "def test_bfs():\n",
    "    \"\"\"\n",
    "    TODO: Write your unit test for your breadth-first \n",
    "    search here. You should generate an instance of a Graph\n",
    "    class using the 'citation_network.adjlist' file \n",
    "    and assert that nodes that are connected return \n",
    "    a (shortest) path between them.\n",
    "    \n",
    "    Include an additional test for nodes that are not connected \n",
    "    which should return None. \n",
    "    \"\"\"\n",
    "\n",
    "    \n",
    "    pass\n"
   ]
  },
  {
   "cell_type": "code",
   "execution_count": 3,
   "metadata": {},
   "outputs": [
    {
     "name": "stdout",
     "output_type": "stream",
     "text": [
      "['31806696', 'Luke Gilbert', '33483487', '31626775', '31540829', 'Martin Kampmann', 'Neil Risch', 'Nevan Krogan', '32790644', '29700475', '34272374', '32353859', '30944313', 'Steven Altschuler', 'Lani Wu', 'Michael Keiser', 'Atul Butte', 'Marina Sirota', 'Hani Goodarzi', '32036252', '32042149', '30727954', '33232663', '33765435', '33242416', '31395880', '31486345', 'Michael McManus', 'Charles Chiu', '32025019']\n"
     ]
    }
   ],
   "source": [
    "test_bfs_traversal()"
   ]
  },
  {
   "cell_type": "code",
   "execution_count": 25,
   "metadata": {},
   "outputs": [
    {
     "name": "stdout",
     "output_type": "stream",
     "text": [
      "None\n"
     ]
    }
   ],
   "source": [
    "tiny_graph_nx = nx.read_adjlist(\"/Users/yifeichen/Desktop/winter24/HW2-BFS/data/citation_network.adjlist\", create_using=nx.DiGraph, delimiter=\";\")\n",
    "tiny_graph_my = graph.Graph(\"/Users/yifeichen/Desktop/winter24/HW2-BFS/data/citation_network.adjlist\")\n",
    "start_node\n",
    "end_node  = 'Elad Ziv'\n",
    "\n",
    "my_bfs_path = tiny_graph_my.bfs(start_node,end_node)\n",
    "\n",
    "\n",
    "print(my_bfs_path)"
   ]
  },
  {
   "cell_type": "code",
   "execution_count": 21,
   "metadata": {},
   "outputs": [
    {
     "data": {
      "text/plain": [
       "['34893775',\n",
       " '34893761',\n",
       " '34888348',\n",
       " '34888308',\n",
       " '34888238',\n",
       " '34885093',\n",
       " '34885058',\n",
       " '34880496',\n",
       " '34876838',\n",
       " '34873491',\n",
       " '34872577',\n",
       " '34872567',\n",
       " '34869006',\n",
       " '34868991',\n",
       " '34868931',\n",
       " '34868231',\n",
       " '34867976',\n",
       " '34858850',\n",
       " '34858826',\n",
       " '34858823',\n",
       " '34857041',\n",
       " '34856993',\n",
       " '34843026',\n",
       " '34841682',\n",
       " '34841195',\n",
       " '34839308',\n",
       " '34839264',\n",
       " '34832991',\n",
       " '34140528',\n",
       " '33846154',\n",
       " '33720303',\n",
       " '33268447',\n",
       " '33142712',\n",
       " '32609350',\n",
       " '32555420',\n",
       " '32424353',\n",
       " '32424349',\n",
       " '32396860',\n",
       " '32376723',\n",
       " '32269045',\n",
       " '32245796',\n",
       " '32139696',\n",
       " '32130895',\n",
       " '32079541',\n",
       " '31757997',\n",
       " '31553449',\n",
       " '31395590',\n",
       " '31251818',\n",
       " '31226226',\n",
       " '31194742']"
      ]
     },
     "execution_count": 21,
     "metadata": {},
     "output_type": "execute_result"
    }
   ],
   "source": [
    "list(tiny_graph_nx.nodes())[-50:]"
   ]
  },
  {
   "cell_type": "code",
   "execution_count": null,
   "metadata": {},
   "outputs": [],
   "source": []
  }
 ],
 "metadata": {
  "kernelspec": {
   "display_name": "ucsfbp",
   "language": "python",
   "name": "python3"
  },
  "language_info": {
   "codemirror_mode": {
    "name": "ipython",
    "version": 3
   },
   "file_extension": ".py",
   "mimetype": "text/x-python",
   "name": "python",
   "nbconvert_exporter": "python",
   "pygments_lexer": "ipython3",
   "version": "3.11.4"
  }
 },
 "nbformat": 4,
 "nbformat_minor": 2
}
